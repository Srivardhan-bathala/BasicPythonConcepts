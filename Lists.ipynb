{
 "cells": [
  {
   "cell_type": "markdown",
   "id": "16d576de",
   "metadata": {},
   "source": [
    "Length of a list"
   ]
  },
  {
   "cell_type": "code",
   "execution_count": 1,
   "id": "4bb75ac8",
   "metadata": {},
   "outputs": [
    {
     "name": "stdout",
     "output_type": "stream",
     "text": [
      "5\n"
     ]
    }
   ],
   "source": [
    "my_list = [1, 2, 3, 4, 5]\n",
    "length = len(my_list)\n",
    "print(length) \n"
   ]
  },
  {
   "cell_type": "markdown",
   "id": "d49dcf29",
   "metadata": {},
   "source": [
    " maximum and minimum values in a list"
   ]
  },
  {
   "cell_type": "code",
   "execution_count": 2,
   "id": "4ccff107",
   "metadata": {},
   "outputs": [
    {
     "name": "stdout",
     "output_type": "stream",
     "text": [
      "9\n",
      "1\n"
     ]
    }
   ],
   "source": [
    "numbers = [3, 1, 4, 1, 5, 9, 2, 6, 5, 3]\n",
    "max_value = max(numbers)\n",
    "min_value = min(numbers)\n",
    "print(max_value)  \n",
    "print(min_value)  \n"
   ]
  },
  {
   "cell_type": "markdown",
   "id": "bc3ba549",
   "metadata": {},
   "source": [
    "sum of all elements in the list"
   ]
  },
  {
   "cell_type": "code",
   "execution_count": 3,
   "id": "a238795c",
   "metadata": {},
   "outputs": [
    {
     "name": "stdout",
     "output_type": "stream",
     "text": [
      "15\n"
     ]
    }
   ],
   "source": [
    "numbers = [1, 2, 3, 4, 5]\n",
    "total = sum(numbers)\n",
    "print(total)  \n"
   ]
  },
  {
   "cell_type": "markdown",
   "id": "986f4a60",
   "metadata": {},
   "source": [
    "Finding the average of elements in a list"
   ]
  },
  {
   "cell_type": "code",
   "execution_count": 4,
   "id": "dbeaacf4",
   "metadata": {},
   "outputs": [
    {
     "name": "stdout",
     "output_type": "stream",
     "text": [
      "The average is: 30.0\n"
     ]
    }
   ],
   "source": [
    "numbers = [10, 20, 30, 40, 50]\n",
    "average = sum(numbers) / len(numbers)\n",
    "print(f\"The average is: {average}\")\n"
   ]
  },
  {
   "cell_type": "markdown",
   "id": "31470abc",
   "metadata": {},
   "source": [
    "Removing duplicates from a list"
   ]
  },
  {
   "cell_type": "code",
   "execution_count": 5,
   "id": "0e67404a",
   "metadata": {},
   "outputs": [
    {
     "name": "stdout",
     "output_type": "stream",
     "text": [
      "Original List: [1, 2, 2, 3, 4, 4, 5]\n",
      "List with Duplicates Removed: [1, 2, 3, 4, 5]\n"
     ]
    }
   ],
   "source": [
    "my_list = [1, 2, 2, 3, 4, 4, 5]\n",
    "unique_list = list(set(my_list))\n",
    "print(f\"Original List: {my_list}\")\n",
    "print(f\"List with Duplicates Removed: {unique_list}\")\n"
   ]
  },
  {
   "cell_type": "markdown",
   "id": "5b2e5f96",
   "metadata": {},
   "source": [
    "Finding Common Elements in Three Lists"
   ]
  },
  {
   "cell_type": "code",
   "execution_count": 6,
   "id": "6a7f708b",
   "metadata": {},
   "outputs": [
    {
     "name": "stdout",
     "output_type": "stream",
     "text": [
      "Common Elements: {3, 4, 5}\n"
     ]
    }
   ],
   "source": [
    "list1 = [1, 2, 3, 4, 5]\n",
    "list2 = [2, 3, 4, 5, 6]\n",
    "list3 = [3, 4, 5, 6, 7]\n",
    "\n",
    "set1 = set(list1)\n",
    "set2 = set(list2)\n",
    "set3 = set(list3)\n",
    "\n",
    "common = set1.intersection(set2, set3)\n",
    "print(f\"Common Elements: {common}\")\n"
   ]
  },
  {
   "cell_type": "markdown",
   "id": "732e8e9f",
   "metadata": {},
   "source": [
    "List Functions "
   ]
  },
  {
   "cell_type": "markdown",
   "id": "15039fc0",
   "metadata": {},
   "source": [
    "Append()"
   ]
  },
  {
   "cell_type": "code",
   "execution_count": null,
   "id": "22a13a73",
   "metadata": {},
   "outputs": [],
   "source": [
    "my_list = [1, 2, 3]\n",
    "my_list.append(4)\n",
    "print(my_list)  \n"
   ]
  },
  {
   "cell_type": "markdown",
   "id": "95a11950",
   "metadata": {},
   "source": [
    "Extend()"
   ]
  },
  {
   "cell_type": "code",
   "execution_count": 8,
   "id": "98b67900",
   "metadata": {},
   "outputs": [
    {
     "name": "stdout",
     "output_type": "stream",
     "text": [
      "[1, 2, 3, 4, 5, 6]\n"
     ]
    }
   ],
   "source": [
    "list1 = [1, 2, 3]\n",
    "list2 = [4, 5, 6]\n",
    "list1.extend(list2)\n",
    "print(list1)\n"
   ]
  },
  {
   "cell_type": "markdown",
   "id": "fe521f71",
   "metadata": {},
   "source": [
    "insert()"
   ]
  },
  {
   "cell_type": "code",
   "execution_count": 9,
   "id": "03ac96bf",
   "metadata": {},
   "outputs": [
    {
     "name": "stdout",
     "output_type": "stream",
     "text": [
      "[1, 4, 2, 3]\n"
     ]
    }
   ],
   "source": [
    "my_list = [1, 2, 3]\n",
    "my_list.insert(1, 4)\n",
    "print(my_list)  \n"
   ]
  },
  {
   "cell_type": "markdown",
   "id": "a84821ec",
   "metadata": {},
   "source": [
    "remove()"
   ]
  },
  {
   "cell_type": "code",
   "execution_count": 10,
   "id": "ee2d3d68",
   "metadata": {},
   "outputs": [
    {
     "name": "stdout",
     "output_type": "stream",
     "text": [
      "[1, 3, 2, 4]\n"
     ]
    }
   ],
   "source": [
    "my_list = [1, 2, 3, 2, 4]\n",
    "my_list.remove(2)\n",
    "print(my_list) \n"
   ]
  },
  {
   "cell_type": "markdown",
   "id": "12089926",
   "metadata": {},
   "source": [
    "pop()"
   ]
  },
  {
   "cell_type": "code",
   "execution_count": 11,
   "id": "68bb92a3",
   "metadata": {},
   "outputs": [
    {
     "name": "stdout",
     "output_type": "stream",
     "text": [
      "3\n",
      "[1, 2, 4]\n"
     ]
    }
   ],
   "source": [
    "my_list = [1, 2, 3, 4]\n",
    "popped_element = my_list.pop(2)\n",
    "print(popped_element)  \n",
    "print(my_list)         \n"
   ]
  },
  {
   "cell_type": "markdown",
   "id": "881f93c7",
   "metadata": {},
   "source": [
    "sort()"
   ]
  },
  {
   "cell_type": "code",
   "execution_count": 12,
   "id": "fc4d7b97",
   "metadata": {},
   "outputs": [
    {
     "name": "stdout",
     "output_type": "stream",
     "text": [
      "[1, 1, 2, 3, 3, 4, 5, 5, 6, 9]\n"
     ]
    }
   ],
   "source": [
    "my_list = [3, 1, 4, 1, 5, 9, 2, 6, 5, 3]\n",
    "my_list.sort()\n",
    "print(my_list) \n"
   ]
  },
  {
   "cell_type": "code",
   "execution_count": null,
   "id": "fd2e1959",
   "metadata": {},
   "outputs": [],
   "source": []
  }
 ],
 "metadata": {
  "kernelspec": {
   "display_name": "Python 3 (ipykernel)",
   "language": "python",
   "name": "python3"
  },
  "language_info": {
   "codemirror_mode": {
    "name": "ipython",
    "version": 3
   },
   "file_extension": ".py",
   "mimetype": "text/x-python",
   "name": "python",
   "nbconvert_exporter": "python",
   "pygments_lexer": "ipython3",
   "version": "3.9.12"
  }
 },
 "nbformat": 4,
 "nbformat_minor": 5
}
