{
 "cells": [
  {
   "cell_type": "markdown",
   "id": "c6783921",
   "metadata": {},
   "source": [
    "Break Statement "
   ]
  },
  {
   "cell_type": "code",
   "execution_count": 1,
   "id": "00441b69",
   "metadata": {},
   "outputs": [
    {
     "name": "stdout",
     "output_type": "stream",
     "text": [
      "1\n",
      "2\n",
      "3\n",
      "4\n"
     ]
    }
   ],
   "source": [
    "#Terminates the loop prematurely\n",
    "for i in range(1, 10):\n",
    "    if i == 5:\n",
    "        break\n",
    "    print(i)\n"
   ]
  },
  {
   "cell_type": "markdown",
   "id": "0c0d1706",
   "metadata": {},
   "source": [
    "Continue Statement"
   ]
  },
  {
   "cell_type": "code",
   "execution_count": 2,
   "id": "fd306a20",
   "metadata": {},
   "outputs": [
    {
     "name": "stdout",
     "output_type": "stream",
     "text": [
      "1\n",
      "2\n",
      "4\n",
      "5\n"
     ]
    }
   ],
   "source": [
    "#Skips the rest of the code inside the loop for the current iteration.\n",
    "for i in range(1, 6):\n",
    "    if i == 3:\n",
    "        continue\n",
    "    print(i)\n"
   ]
  },
  {
   "cell_type": "markdown",
   "id": "a6935a35",
   "metadata": {},
   "source": [
    "Calculating a number's Factorial "
   ]
  },
  {
   "cell_type": "code",
   "execution_count": 3,
   "id": "8c706b48",
   "metadata": {},
   "outputs": [
    {
     "name": "stdout",
     "output_type": "stream",
     "text": [
      "Enter a number: 5\n",
      "The factorial of 5 is 120.\n"
     ]
    }
   ],
   "source": [
    "number = int(input(\"Enter a number: \"))\n",
    "factorial = 1\n",
    "\n",
    "for i in range(1, number + 1):\n",
    "    factorial *= i\n",
    "\n",
    "print(f\"The factorial of {number} is {factorial}.\")\n"
   ]
  },
  {
   "cell_type": "markdown",
   "id": "b83f39a4",
   "metadata": {},
   "source": [
    "Guess the number game"
   ]
  },
  {
   "cell_type": "code",
   "execution_count": 4,
   "id": "b165023e",
   "metadata": {},
   "outputs": [
    {
     "name": "stdout",
     "output_type": "stream",
     "text": [
      "Guess the number between 1 and 10: 8\n",
      "Too low. Try again.\n",
      "Guess the number between 1 and 10: 9\n",
      "Congratulations! You guessed the correct number.\n"
     ]
    }
   ],
   "source": [
    "import random\n",
    "\n",
    "secret_number = random.randint(1, 10) # generates a random integer between 1 and 10\n",
    "\n",
    "while True:\n",
    "    guess = int(input(\"Guess the number between 1 and 10: \"))\n",
    "\n",
    "    if guess == secret_number:\n",
    "        print(\"Congratulations! You guessed the correct number.\")\n",
    "        break\n",
    "    elif guess < secret_number:\n",
    "        print(\"Too low. Try again.\")\n",
    "    else:\n",
    "        print(\"Too high. Try again.\")\n"
   ]
  },
  {
   "cell_type": "markdown",
   "id": "96e21c54",
   "metadata": {},
   "source": [
    "To check wether a number is a prime number or not "
   ]
  },
  {
   "cell_type": "code",
   "execution_count": 5,
   "id": "a29fe9cf",
   "metadata": {},
   "outputs": [
    {
     "name": "stdout",
     "output_type": "stream",
     "text": [
      "Enter a number: 23\n",
      "23 is a prime number.\n"
     ]
    }
   ],
   "source": [
    "number = int(input(\"Enter a number: \"))\n",
    "\n",
    "is_prime = True\n",
    "\n",
    "if number <= 1:\n",
    "    is_prime = False\n",
    "else:\n",
    "    for i in range(2, int(number**0.5) + 1):\n",
    "        if number % i == 0:\n",
    "            is_prime = False\n",
    "            break\n",
    "\n",
    "if is_prime:\n",
    "    print(f\"{number} is a prime number.\")\n",
    "else:\n",
    "    print(f\"{number} is not a prime number.\")\n"
   ]
  },
  {
   "cell_type": "markdown",
   "id": "ae9611d1",
   "metadata": {},
   "source": [
    "To check wether a number is a palindrome or not "
   ]
  },
  {
   "cell_type": "code",
   "execution_count": 6,
   "id": "ac8785ce",
   "metadata": {},
   "outputs": [
    {
     "name": "stdout",
     "output_type": "stream",
     "text": [
      "Enter a word or phrase: 100001\n",
      "100001 is a palindrome.\n"
     ]
    }
   ],
   "source": [
    "word = input(\"Enter a word or phrase: \")\n",
    "\n",
    "cleaned_word = ''.join(char.lower() for char in word if char.isalnum())\n",
    "\n",
    "is_palindrome = cleaned_word == cleaned_word[::-1]\n",
    "\n",
    "if is_palindrome:\n",
    "    print(f\"{word} is a palindrome.\")\n",
    "else:\n",
    "    print(f\"{word} is not a palindrome.\")\n"
   ]
  },
  {
   "cell_type": "code",
   "execution_count": null,
   "id": "b7000346",
   "metadata": {},
   "outputs": [],
   "source": []
  }
 ],
 "metadata": {
  "kernelspec": {
   "display_name": "Python 3 (ipykernel)",
   "language": "python",
   "name": "python3"
  },
  "language_info": {
   "codemirror_mode": {
    "name": "ipython",
    "version": 3
   },
   "file_extension": ".py",
   "mimetype": "text/x-python",
   "name": "python",
   "nbconvert_exporter": "python",
   "pygments_lexer": "ipython3",
   "version": "3.9.12"
  }
 },
 "nbformat": 4,
 "nbformat_minor": 5
}
