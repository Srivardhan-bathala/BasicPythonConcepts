{
 "cells": [
  {
   "cell_type": "markdown",
   "metadata": {},
   "source": [
    " Grade Classification"
   ]
  },
  {
   "cell_type": "code",
   "execution_count": 1,
   "metadata": {},
   "outputs": [
    {
     "name": "stdout",
     "output_type": "stream",
     "text": [
      "Score: 75, Grade: C\n"
     ]
    }
   ],
   "source": [
    "score = 75\n",
    "\n",
    "if score >= 90:\n",
    "    grade = 'A'\n",
    "elif score >= 80:\n",
    "    grade = 'B'\n",
    "elif score >= 70:\n",
    "    grade = 'C'\n",
    "elif score >= 60:\n",
    "    grade = 'D'\n",
    "else:\n",
    "    grade = 'F'\n",
    "\n",
    "print(f\"Score: {score}, Grade: {grade}\")\n"
   ]
  },
  {
   "cell_type": "code",
   "execution_count": 2,
   "metadata": {},
   "outputs": [
    {
     "name": "stdout",
     "output_type": "stream",
     "text": [
      "a is less than b\n"
     ]
    }
   ],
   "source": [
    "# Number Comparison\n",
    "\n",
    "a = 5\n",
    "b = 10\n",
    "\n",
    "if a > b:\n",
    "    result = 'a is greater than b'\n",
    "elif a < b:\n",
    "    result = 'a is less than b'\n",
    "else:\n",
    "    result = 'a is equal to b'\n",
    "\n",
    "print(result)\n"
   ]
  },
  {
   "cell_type": "code",
   "execution_count": 3,
   "metadata": {},
   "outputs": [
    {
     "name": "stdout",
     "output_type": "stream",
     "text": [
      "2024 is a leap year.\n"
     ]
    }
   ],
   "source": [
    "#to check if its a leap year or not\n",
    "year_to_check = 2024\n",
    "\n",
    "if (year_to_check % 4 == 0 and year_to_check % 100 != 0) or (year_to_check % 400 == 0):\n",
    "    print(f\"{year_to_check} is a leap year.\")\n",
    "else:\n",
    "    print(f\"{year_to_check} is not a leap year.\")\n"
   ]
  },
  {
   "cell_type": "markdown",
   "metadata": {},
   "source": [
    "BMI calculator"
   ]
  },
  {
   "cell_type": "code",
   "execution_count": 5,
   "metadata": {},
   "outputs": [
    {
     "name": "stdout",
     "output_type": "stream",
     "text": [
      "Enter your weight in kilograms: 65\n",
      "Enter your height in meters:1.8\n",
      "Your BMI is 20.06, and you are classified as Normal Weight.\n"
     ]
    }
   ],
   "source": [
    "# User inputs\n",
    "weight_kg = float(input(\"Enter your weight in kilograms: \"))\n",
    "height_m = float(input(\"Enter your height in meters:\"))\n",
    "\n",
    "bmi = weight_kg / (height_m ** 2)\n",
    "\n",
    "if bmi < 18.5:\n",
    "    classification = \"Underweight\"\n",
    "elif 18.5 <= bmi < 24.9:\n",
    "    classification = \"Normal Weight\"\n",
    "elif 25 <= bmi < 29.9:\n",
    "    classification = \"Overweight\"\n",
    "else:\n",
    "    classification = \"Obese\"\n",
    "\n",
    "print(f\"Your BMI is {bmi:.2f}, and you are classified as {classification}.\")\n"
   ]
  },
  {
   "cell_type": "markdown",
   "metadata": {},
   "source": [
    "Ticket Price Calculator"
   ]
  },
  {
   "cell_type": "code",
   "execution_count": 7,
   "metadata": {},
   "outputs": [
    {
     "name": "stdout",
     "output_type": "stream",
     "text": [
      "Enter your age: 17\n",
      "The ticket price for a 17-year-old is Rs640.\n"
     ]
    }
   ],
   "source": [
    "age = int(input(\"Enter your age: \"))\n",
    "\n",
    "if age <= 12:\n",
    "    ticket_price = 400\n",
    "elif 13 <= age <= 17:\n",
    "    ticket_price = 640\n",
    "elif 18 <= age <= 64:\n",
    "    ticket_price = 1200\n",
    "else:\n",
    "    ticket_price = 480\n",
    "\n",
    "print(f\"The ticket price for a {age}-year-old is Rs{ticket_price}.\")\n"
   ]
  },
  {
   "cell_type": "code",
   "execution_count": null,
   "metadata": {},
   "outputs": [],
   "source": []
  }
 ],
 "metadata": {
  "kernelspec": {
   "display_name": "Python 3",
   "language": "python",
   "name": "python3"
  },
  "language_info": {
   "codemirror_mode": {
    "name": "ipython",
    "version": 3
   },
   "file_extension": ".py",
   "mimetype": "text/x-python",
   "name": "python",
   "nbconvert_exporter": "python",
   "pygments_lexer": "ipython3",
   "version": "3.8.5"
  }
 },
 "nbformat": 4,
 "nbformat_minor": 5
}
