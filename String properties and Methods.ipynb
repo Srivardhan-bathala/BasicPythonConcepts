{
 "cells": [
  {
   "cell_type": "markdown",
   "id": "aa04a8f1",
   "metadata": {},
   "source": [
    "Length of the String"
   ]
  },
  {
   "cell_type": "code",
   "execution_count": 1,
   "id": "c0e9db28",
   "metadata": {},
   "outputs": [
    {
     "name": "stdout",
     "output_type": "stream",
     "text": [
      "13\n"
     ]
    }
   ],
   "source": [
    "my_string = \"Hello, World!\"\n",
    "length = len(my_string)\n",
    "print(length)\n"
   ]
  },
  {
   "cell_type": "markdown",
   "id": "9660c16d",
   "metadata": {},
   "source": [
    "Concatenation"
   ]
  },
  {
   "cell_type": "code",
   "execution_count": 2,
   "id": "900982b8",
   "metadata": {},
   "outputs": [
    {
     "name": "stdout",
     "output_type": "stream",
     "text": [
      "Hello, World!\n"
     ]
    }
   ],
   "source": [
    "str1 = \"Hello\"\n",
    "str2 = \"World\"\n",
    "combined_str = str1 + \", \" + str2 + \"!\"\n",
    "print(combined_str)\n",
    "\n"
   ]
  },
  {
   "cell_type": "markdown",
   "id": "bc8288c7",
   "metadata": {},
   "source": [
    "# string methods"
   ]
  },
  {
   "cell_type": "markdown",
   "id": "4b99e40b",
   "metadata": {},
   "source": [
    "Lowercase, Uppercase, Titlecase"
   ]
  },
  {
   "cell_type": "code",
   "execution_count": 4,
   "id": "278746a0",
   "metadata": {},
   "outputs": [
    {
     "name": "stdout",
     "output_type": "stream",
     "text": [
      "hello, world\n",
      "HELLO, WORLD\n",
      "Hello, World\n"
     ]
    }
   ],
   "source": [
    "my_string = \"Hello, World\"\n",
    "lowercase = my_string.lower()\n",
    "uppercase = my_string.upper()\n",
    "titlecase = my_string.title()\n",
    "\n",
    "print(lowercase)   \n",
    "print(uppercase)   \n",
    "print(titlecase)   \n"
   ]
  },
  {
   "cell_type": "markdown",
   "id": "1eabd3c0",
   "metadata": {},
   "source": [
    "Count the number of occurrences of a substring"
   ]
  },
  {
   "cell_type": "code",
   "execution_count": 6,
   "id": "905eb505",
   "metadata": {},
   "outputs": [
    {
     "name": "stdout",
     "output_type": "stream",
     "text": [
      "1\n"
     ]
    }
   ],
   "source": [
    "my_string = \"Hello, World\"\n",
    "count_e = my_string.count('e')\n",
    "print(count_e)\n"
   ]
  },
  {
   "cell_type": "markdown",
   "id": "8299be9c",
   "metadata": {},
   "source": [
    "Finding the index of the first occurrence of a substring"
   ]
  },
  {
   "cell_type": "code",
   "execution_count": 10,
   "id": "2d9a1194",
   "metadata": {},
   "outputs": [
    {
     "name": "stdout",
     "output_type": "stream",
     "text": [
      "4\n",
      "9\n"
     ]
    }
   ],
   "source": [
    "my_string = \"Hello, World\"\n",
    "index_o = my_string.find('o')\n",
    "index_r = my_string.index('r')\n",
    "\n",
    "print(index_o)\n",
    "print(index_r)  \n"
   ]
  },
  {
   "cell_type": "markdown",
   "id": "f51e7c84",
   "metadata": {},
   "source": [
    "Replace occurrences of a substring with another"
   ]
  },
  {
   "cell_type": "code",
   "execution_count": 11,
   "id": "170537d6",
   "metadata": {},
   "outputs": [
    {
     "name": "stdout",
     "output_type": "stream",
     "text": [
      "Hello, Python\n"
     ]
    }
   ],
   "source": [
    "my_string = \"Hello, World\"\n",
    "new_string = my_string.replace('World', 'Python')\n",
    "print(new_string)"
   ]
  },
  {
   "cell_type": "markdown",
   "id": "9e4e32d6",
   "metadata": {},
   "source": [
    "Split a string into a list of substrings based on a delimiter"
   ]
  },
  {
   "cell_type": "code",
   "execution_count": 13,
   "id": "507fcd2a",
   "metadata": {},
   "outputs": [
    {
     "name": "stdout",
     "output_type": "stream",
     "text": [
      "['Hello', 'World']\n"
     ]
    }
   ],
   "source": [
    "my_string = \"Hello, World\"\n",
    "words = my_string.split(', ')\n",
    "print(words)\n"
   ]
  },
  {
   "cell_type": "markdown",
   "id": "eb3fd04c",
   "metadata": {},
   "source": [
    "Removing Whitespaces"
   ]
  },
  {
   "cell_type": "code",
   "execution_count": 14,
   "id": "4e88c771",
   "metadata": {},
   "outputs": [
    {
     "name": "stdout",
     "output_type": "stream",
     "text": [
      "Hello, World\n"
     ]
    }
   ],
   "source": [
    "my_string = \"   Hello, World    \"\n",
    "stripped_string = my_string.strip()\n",
    "print(stripped_string)\n"
   ]
  },
  {
   "cell_type": "code",
   "execution_count": null,
   "id": "3842db85",
   "metadata": {},
   "outputs": [],
   "source": []
  }
 ],
 "metadata": {
  "kernelspec": {
   "display_name": "Python 3 (ipykernel)",
   "language": "python",
   "name": "python3"
  },
  "language_info": {
   "codemirror_mode": {
    "name": "ipython",
    "version": 3
   },
   "file_extension": ".py",
   "mimetype": "text/x-python",
   "name": "python",
   "nbconvert_exporter": "python",
   "pygments_lexer": "ipython3",
   "version": "3.9.12"
  }
 },
 "nbformat": 4,
 "nbformat_minor": 5
}
