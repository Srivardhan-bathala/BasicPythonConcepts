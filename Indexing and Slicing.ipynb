{
 "cells": [
  {
   "cell_type": "markdown",
   "id": "4f164538",
   "metadata": {},
   "source": [
    "# INDEXING"
   ]
  },
  {
   "cell_type": "code",
   "execution_count": 2,
   "id": "e8b03df2",
   "metadata": {},
   "outputs": [
    {
     "name": "stdout",
     "output_type": "stream",
     "text": [
      "H\n",
      "e\n",
      "3\n"
     ]
    }
   ],
   "source": [
    "# Indexing in a string\n",
    "my_string = \"Hello, World!\"\n",
    "first_char = my_string[0]\n",
    "second_char = my_string[1]\n",
    "\n",
    "print(first_char)  # Output: H\n",
    "print(second_char) # Output: e\n",
    "\n",
    "# Indexing in a list\n",
    "my_list = [1, 2, 3, 4, 5]\n",
    "third_element = my_list[2]\n",
    "\n",
    "print(third_element)  # Output: 3\n"
   ]
  },
  {
   "cell_type": "markdown",
   "id": "13b182ae",
   "metadata": {},
   "source": [
    "# SLICING"
   ]
  },
  {
   "cell_type": "code",
   "execution_count": 3,
   "id": "913d59ff",
   "metadata": {},
   "outputs": [
    {
     "name": "stdout",
     "output_type": "stream",
     "text": [
      "World\n",
      "[2, 3, 4]\n"
     ]
    }
   ],
   "source": [
    "# Slicing a string\n",
    "my_string = \"Hello, World!\"\n",
    "substring = my_string[7:12]\n",
    "\n",
    "print(substring) \n",
    "\n",
    "# Slicing a list\n",
    "my_list = [1, 2, 3, 4, 5]\n",
    "subset = my_list[1:4]\n",
    "\n",
    "print(subset) "
   ]
  },
  {
   "cell_type": "code",
   "execution_count": 4,
   "id": "cfbf0acb",
   "metadata": {},
   "outputs": [
    {
     "name": "stdout",
     "output_type": "stream",
     "text": [
      "[2, 4, 6, 8]\n"
     ]
    }
   ],
   "source": [
    "# Slicing with a step\n",
    "my_list = [1, 2, 3, 4, 5, 6, 7, 8, 9]\n",
    "subset = my_list[1:8:2] # 1:8:2 means start at index 1, end at index 8, and take every second element.\n",
    "\n",
    "print(subset)  # Output: [2, 4, 6, 8]\n"
   ]
  },
  {
   "cell_type": "code",
   "execution_count": 5,
   "id": "379782e5",
   "metadata": {},
   "outputs": [
    {
     "name": "stdout",
     "output_type": "stream",
     "text": [
      "!\n"
     ]
    }
   ],
   "source": [
    "# Negative indexing and slicing\n",
    "my_string = \"Hello, World!\"\n",
    "last_char = my_string[-1]\n",
    "\n",
    "print(last_char) \n"
   ]
  },
  {
   "cell_type": "code",
   "execution_count": null,
   "id": "30ef76c3",
   "metadata": {},
   "outputs": [],
   "source": []
  }
 ],
 "metadata": {
  "kernelspec": {
   "display_name": "Python 3 (ipykernel)",
   "language": "python",
   "name": "python3"
  },
  "language_info": {
   "codemirror_mode": {
    "name": "ipython",
    "version": 3
   },
   "file_extension": ".py",
   "mimetype": "text/x-python",
   "name": "python",
   "nbconvert_exporter": "python",
   "pygments_lexer": "ipython3",
   "version": "3.9.12"
  }
 },
 "nbformat": 4,
 "nbformat_minor": 5
}
