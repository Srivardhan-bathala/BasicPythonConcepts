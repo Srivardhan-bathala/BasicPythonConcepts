{
 "cells": [
  {
   "cell_type": "markdown",
   "id": "a8cefec1",
   "metadata": {},
   "source": [
    "Dictionaries:\n",
    "A dictionary is an unordered collection of key-value pairs."
   ]
  },
  {
   "cell_type": "code",
   "execution_count": 1,
   "id": "911fb1a1",
   "metadata": {},
   "outputs": [
    {
     "name": "stdout",
     "output_type": "stream",
     "text": [
      "Vardhan\n",
      "4\n",
      "True\n"
     ]
    }
   ],
   "source": [
    "# Creating a dictionary\n",
    "person = {'name': 'Vardhan', 'age': 16, 'city': 'Banglore'}\n",
    "\n",
    "# Accessing values\n",
    "print(person['name']) \n",
    "\n",
    "# Modifying values\n",
    "person['age'] = 17\n",
    "\n",
    "# Adding a new key-value pair\n",
    "person['gender'] = 'Male'\n",
    "\n",
    "# Dictionary properties\n",
    "print(len(person))      # Output: 4 (number of key-value pairs)\n",
    "print('city' in person)  # Output: True\n"
   ]
  },
  {
   "cell_type": "markdown",
   "id": "fb4f2e14",
   "metadata": {},
   "source": [
    "Tuples:\n",
    "A tuple is an ordered, immutable collection of elements."
   ]
  },
  {
   "cell_type": "code",
   "execution_count": 2,
   "id": "0920ec6a",
   "metadata": {},
   "outputs": [
    {
     "name": "stdout",
     "output_type": "stream",
     "text": [
      "2\n",
      "False\n"
     ]
    }
   ],
   "source": [
    "# Creating a tuple\n",
    "point = (3, 4)\n",
    "\n",
    "# Accessing elements\n",
    "x = point[0]  # x = 3\n",
    "\n",
    "# Tuple properties\n",
    "print(len(point))     # Output: 2 (number of elements)\n",
    "print(5.0 in point)    # Output: False\n"
   ]
  },
  {
   "cell_type": "markdown",
   "id": "829457ad",
   "metadata": {},
   "source": [
    "Sets:\n",
    "A set is an unordered collection of unique elements."
   ]
  },
  {
   "cell_type": "code",
   "execution_count": 3,
   "id": "58cec688",
   "metadata": {},
   "outputs": [
    {
     "name": "stdout",
     "output_type": "stream",
     "text": [
      "3\n",
      "True\n"
     ]
    }
   ],
   "source": [
    "# Creating a set\n",
    "fruits = {'apple', 'banana', 'orange'}\n",
    "\n",
    "# Adding elements\n",
    "fruits.add('grape')\n",
    "\n",
    "# Removing elements\n",
    "fruits.remove('banana')\n",
    "\n",
    "# Set properties\n",
    "print(len(fruits))     # Output: 2 (number of elements)\n",
    "print('orange' in fruits)  # Output: True\n"
   ]
  },
  {
   "cell_type": "code",
   "execution_count": null,
   "id": "fa93aeec",
   "metadata": {},
   "outputs": [],
   "source": []
  }
 ],
 "metadata": {
  "kernelspec": {
   "display_name": "Python 3 (ipykernel)",
   "language": "python",
   "name": "python3"
  },
  "language_info": {
   "codemirror_mode": {
    "name": "ipython",
    "version": 3
   },
   "file_extension": ".py",
   "mimetype": "text/x-python",
   "name": "python",
   "nbconvert_exporter": "python",
   "pygments_lexer": "ipython3",
   "version": "3.9.12"
  }
 },
 "nbformat": 4,
 "nbformat_minor": 5
}
