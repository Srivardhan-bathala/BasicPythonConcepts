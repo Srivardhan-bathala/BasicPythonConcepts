{
 "cells": [
  {
   "cell_type": "markdown",
   "id": "e072ba7c",
   "metadata": {},
   "source": [
    "Sum of two numbers"
   ]
  },
  {
   "cell_type": "code",
   "execution_count": 2,
   "id": "07d27af5",
   "metadata": {},
   "outputs": [
    {
     "name": "stdout",
     "output_type": "stream",
     "text": [
      "The sum is: 12\n"
     ]
    }
   ],
   "source": [
    "def add_numbers(a, b):\n",
    "    #This function adds two numbers\n",
    "    return a + b\n",
    "\n",
    "result = add_numbers(5, 7)\n",
    "print(f\"The sum is: {result}\")\n"
   ]
  },
  {
   "cell_type": "markdown",
   "id": "5f04567f",
   "metadata": {},
   "source": [
    "Reversing a String "
   ]
  },
  {
   "cell_type": "code",
   "execution_count": 3,
   "id": "8c3bdd1f",
   "metadata": {},
   "outputs": [
    {
     "name": "stdout",
     "output_type": "stream",
     "text": [
      "The reversed string is: olleh\n"
     ]
    }
   ],
   "source": [
    "def reverse_string(input_string):\n",
    "    #This function reverses a string\n",
    "    return input_string[::-1]\n",
    "\n",
    "original_string = \"hello\"\n",
    "reversed_string = reverse_string(original_string)\n",
    "print(f\"The reversed string is: {reversed_string}\")\n"
   ]
  },
  {
   "cell_type": "markdown",
   "id": "0290ba6b",
   "metadata": {},
   "source": [
    "checking even or odd"
   ]
  },
  {
   "cell_type": "code",
   "execution_count": 4,
   "id": "6671ad6b",
   "metadata": {},
   "outputs": [
    {
     "name": "stdout",
     "output_type": "stream",
     "text": [
      "The number is: Odd\n"
     ]
    }
   ],
   "source": [
    "def check_even_odd(number):\n",
    "    #This function checks if a number is even or odd\n",
    "    if number % 2 == 0:\n",
    "        return \"Even\"\n",
    "    else:\n",
    "        return \"Odd\"\n",
    "\n",
    "result = check_even_odd(9)\n",
    "print(f\"The number is: {result}\")\n"
   ]
  },
  {
   "cell_type": "code",
   "execution_count": 5,
   "id": "c2be4c73",
   "metadata": {},
   "outputs": [
    {
     "name": "stdout",
     "output_type": "stream",
     "text": [
      "Student Name: Vardhan\n",
      "Grades: [86, 90, 93, 92]\n",
      "Average Grade: 90.25\n"
     ]
    }
   ],
   "source": [
    "class Student:\n",
    "    def __init__(self, name, grades):\n",
    "        self.name = name\n",
    "        self.grades = grades\n",
    "\n",
    "    def calculate_average(self):\n",
    "        return sum(self.grades) / len(self.grades)\n",
    "\n",
    "def display_student_info(student):\n",
    "    print(f\"Student Name: {student.name}\")\n",
    "    print(f\"Grades: {student.grades}\")\n",
    "    print(f\"Average Grade: {student.calculate_average()}\")\n",
    "\n",
    "\n",
    "student1 = Student(\"Vardhan\", [86, 90, 93, 92])\n",
    "display_student_info(student1)\n"
   ]
  },
  {
   "cell_type": "code",
   "execution_count": null,
   "id": "45cca760",
   "metadata": {},
   "outputs": [],
   "source": []
  }
 ],
 "metadata": {
  "kernelspec": {
   "display_name": "Python 3 (ipykernel)",
   "language": "python",
   "name": "python3"
  },
  "language_info": {
   "codemirror_mode": {
    "name": "ipython",
    "version": 3
   },
   "file_extension": ".py",
   "mimetype": "text/x-python",
   "name": "python",
   "nbconvert_exporter": "python",
   "pygments_lexer": "ipython3",
   "version": "3.9.12"
  }
 },
 "nbformat": 4,
 "nbformat_minor": 5
}
